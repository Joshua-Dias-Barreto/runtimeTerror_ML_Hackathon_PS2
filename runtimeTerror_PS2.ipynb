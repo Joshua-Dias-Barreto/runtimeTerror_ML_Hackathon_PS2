{
  "nbformat": 4,
  "nbformat_minor": 0,
  "metadata": {
    "colab": {
      "provenance": [],
      "gpuType": "T4",
      "authorship_tag": "ABX9TyOpNA3hfmSLcGKIX0E3WUTG",
      "include_colab_link": true
    },
    "kernelspec": {
      "name": "python3",
      "display_name": "Python 3"
    },
    "language_info": {
      "name": "python"
    },
    "accelerator": "GPU"
  },
  "cells": [
    {
      "cell_type": "markdown",
      "metadata": {
        "id": "view-in-github",
        "colab_type": "text"
      },
      "source": [
        "<a href=\"https://colab.research.google.com/github/Joshua-Dias-Barreto/runtimeTerror_ML_Hackathon_PS2/blob/main/runtimeTerror_PS2.ipynb\" target=\"_parent\"><img src=\"https://colab.research.google.com/assets/colab-badge.svg\" alt=\"Open In Colab\"/></a>"
      ]
    },
    {
      "cell_type": "code",
      "source": [
        "import pandas as pd\n",
        "import numpy as np\n",
        "from PIL import Image\n",
        "from sklearn.model_selection import train_test_split\n",
        "import os\n",
        "import matplotlib.pyplot as plt\n",
        "import seaborn as sns\n",
        "import tensorflow as tf\n",
        "from tensorflow.keras.preprocessing.image import load_img\n",
        "from google.colab import files\n",
        "from tqdm.notebook import tqdm\n",
        "import tensorflow as tf\n",
        "from tensorflow.keras.preprocessing.image import load_img\n",
        "from keras.models import Sequential, Model\n",
        "from keras.layers import Dense, Conv2D, Dropout, Flatten, MaxPooling2D, Input"
      ],
      "metadata": {
        "id": "EK43a5N15l-i"
      },
      "execution_count": null,
      "outputs": []
    },
    {
      "cell_type": "markdown",
      "source": [
        "# Input Data and Preprocessing"
      ],
      "metadata": {
        "id": "2oHsfQJ8ceP9"
      }
    },
    {
      "cell_type": "code",
      "source": [
        "df = pd.read_csv('ageImgDf.csv')\n",
        "X = np.load('ageImg.npy')\n",
        "X=X/255\n",
        "y = np.array(df['age'])\n",
        "X_train, X_test, y_train, y_test = train_test_split(X,y ,\n",
        "                                   test_size=0.25,\n",
        "                                   shuffle=True)\n"
      ],
      "metadata": {
        "id": "iyh1zx6uah1l"
      },
      "execution_count": null,
      "outputs": []
    },
    {
      "cell_type": "markdown",
      "source": [
        "# Call backs"
      ],
      "metadata": {
        "id": "yEP8H3sNcssw"
      }
    },
    {
      "cell_type": "code",
      "source": [
        "from keras.callbacks import Callback, ReduceLROnPlateau, EarlyStopping\n",
        "from timeit import default_timer as timer\n",
        "\n",
        "class TimingCallback(Callback):\n",
        "    def __init__(self, logs={}):\n",
        "        self.logs=[]\n",
        "    def on_epoch_begin(self, epoch, logs={}):\n",
        "        self.starttime = timer()\n",
        "    def on_epoch_end(self, epoch, logs={}):\n",
        "        self.logs.append(timer()-self.starttime)\n",
        "\n",
        "early_stopping = EarlyStopping(\n",
        "                                patience=5,\n",
        "                                min_delta = 0.01,\n",
        "\n",
        "                                verbose=1,\n",
        "                                mode = 'min',\n",
        "                                monitor='val_loss')\n",
        "\n",
        "reduce_learning_rate = ReduceLROnPlateau(\n",
        "                                    monitor=\"val_loss\",\n",
        "                                    patience=3,\n",
        "                                    episilon= 0.01,\n",
        "                                    factor=0.1,\n",
        "                                    cooldown = 4,\n",
        "                                    verbose=1)\n",
        "\n",
        "time_callback = TimingCallback()\n",
        "\n",
        "\n",
        "lr = 0.01\n",
        "epochs = 30\n",
        "batch_size = 128\n",
        "results = {}\n",
        "num_of_ages = 95"
      ],
      "metadata": {
        "id": "FKG8oeMSNnuf"
      },
      "execution_count": null,
      "outputs": []
    },
    {
      "cell_type": "markdown",
      "source": [
        "# Model"
      ],
      "metadata": {
        "id": "tVkIxIWccInv"
      }
    },
    {
      "cell_type": "code",
      "source": [
        "from keras.applications.mobilenet import MobileNet\n",
        "from keras.layers import GlobalAveragePooling2D, Dense, Dropout, Flatten, BatchNormalization\n",
        "from keras.models import Sequential\n",
        "base_mobilenet_model = MobileNet(input_shape =  (128,128, 1),\n",
        "                                 include_top = False,\n",
        "                                 weights = None)\n",
        "mobilenet_model = Sequential()\n",
        "mobilenet_model.add(BatchNormalization(input_shape = (128,128, 1)))\n",
        "mobilenet_model.add(base_mobilenet_model)\n",
        "mobilenet_model.add(BatchNormalization())\n",
        "mobilenet_model.add(GlobalAveragePooling2D())\n",
        "mobilenet_model.add(Dropout(0.5))\n",
        "mobilenet_model.add(Dense(1,activation='linear'))\n",
        "\n",
        "\n",
        "mobilenet_model.compile(optimizer = 'adam', loss = 'mean_absolute_error',\n",
        "                           metrics = [\"mean_absolute_error\"])\n",
        "\n",
        "\n"
      ],
      "metadata": {
        "id": "ARjSOIOqM5JU"
      },
      "execution_count": null,
      "outputs": []
    },
    {
      "cell_type": "markdown",
      "source": [
        "# Training History"
      ],
      "metadata": {
        "id": "44vkwAs_b_Ri"
      }
    },
    {
      "cell_type": "code",
      "source": [
        "mobilenet_model_history = mobilenet_model.fit(\n",
        "            x=X_train, y=y_train,\n",
        "            validation_split=0.2,\n",
        "            epochs = epochs,\n",
        "            callbacks = [\n",
        "                         reduce_learning_rate,\n",
        "                         early_stopping,\n",
        "                         time_callback\n",
        "                        ],\n",
        "            verbose=True)"
      ],
      "metadata": {
        "colab": {
          "base_uri": "https://localhost:8080/"
        },
        "id": "Yh6HvVpnOZyy",
        "outputId": "89ab36b6-d63e-4d89-9718-3991e6088b45"
      },
      "execution_count": null,
      "outputs": [
        {
          "output_type": "stream",
          "name": "stdout",
          "text": [
            "Epoch 1/30\n",
            "183/183 [==============================] - 406s 2s/step - loss: 22.8907 - mean_absolute_error: 22.8907 - val_loss: 20.8371 - val_mean_absolute_error: 20.8371 - lr: 0.0010\n",
            "Epoch 2/30\n",
            "183/183 [==============================] - 360s 2s/step - loss: 11.5993 - mean_absolute_error: 11.5993 - val_loss: 21.4447 - val_mean_absolute_error: 21.4447 - lr: 0.0010\n",
            "Epoch 3/30\n",
            "183/183 [==============================] - 355s 2s/step - loss: 9.7817 - mean_absolute_error: 9.7817 - val_loss: 20.9158 - val_mean_absolute_error: 20.9158 - lr: 0.0010\n",
            "Epoch 4/30\n",
            "183/183 [==============================] - 356s 2s/step - loss: 9.1276 - mean_absolute_error: 9.1276 - val_loss: 11.0118 - val_mean_absolute_error: 11.0118 - lr: 0.0010\n",
            "Epoch 5/30\n",
            "183/183 [==============================] - 358s 2s/step - loss: 8.1987 - mean_absolute_error: 8.1987 - val_loss: 8.6694 - val_mean_absolute_error: 8.6694 - lr: 0.0010\n",
            "Epoch 6/30\n",
            "183/183 [==============================] - 355s 2s/step - loss: 7.8855 - mean_absolute_error: 7.8855 - val_loss: 9.5186 - val_mean_absolute_error: 9.5186 - lr: 0.0010\n",
            "Epoch 7/30\n",
            "183/183 [==============================] - 355s 2s/step - loss: 7.3314 - mean_absolute_error: 7.3314 - val_loss: 11.7791 - val_mean_absolute_error: 11.7791 - lr: 0.0010\n",
            "Epoch 8/30\n",
            "183/183 [==============================] - 363s 2s/step - loss: 7.1093 - mean_absolute_error: 7.1093 - val_loss: 7.4581 - val_mean_absolute_error: 7.4581 - lr: 0.0010\n",
            "Epoch 9/30\n",
            "183/183 [==============================] - 359s 2s/step - loss: 6.9044 - mean_absolute_error: 6.9044 - val_loss: 7.0133 - val_mean_absolute_error: 7.0133 - lr: 0.0010\n",
            "Epoch 10/30\n",
            "183/183 [==============================] - 354s 2s/step - loss: 6.8506 - mean_absolute_error: 6.8506 - val_loss: 8.1867 - val_mean_absolute_error: 8.1867 - lr: 0.0010\n",
            "Epoch 11/30\n",
            "183/183 [==============================] - 353s 2s/step - loss: 6.6642 - mean_absolute_error: 6.6642 - val_loss: 7.3933 - val_mean_absolute_error: 7.3933 - lr: 0.0010\n",
            "Epoch 12/30\n",
            "183/183 [==============================] - ETA: 0s - loss: 6.4907 - mean_absolute_error: 6.4907\n",
            "Epoch 12: ReduceLROnPlateau reducing learning rate to 0.00010000000474974513.\n",
            "183/183 [==============================] - 353s 2s/step - loss: 6.4907 - mean_absolute_error: 6.4907 - val_loss: 7.3555 - val_mean_absolute_error: 7.3555 - lr: 0.0010\n",
            "Epoch 13/30\n",
            "183/183 [==============================] - 352s 2s/step - loss: 5.6672 - mean_absolute_error: 5.6672 - val_loss: 6.2279 - val_mean_absolute_error: 6.2279 - lr: 1.0000e-04\n",
            "Epoch 14/30\n",
            "183/183 [==============================] - 353s 2s/step - loss: 5.2697 - mean_absolute_error: 5.2697 - val_loss: 6.2219 - val_mean_absolute_error: 6.2219 - lr: 1.0000e-04\n",
            "Epoch 15/30\n",
            "183/183 [==============================] - 353s 2s/step - loss: 5.0303 - mean_absolute_error: 5.0303 - val_loss: 6.0896 - val_mean_absolute_error: 6.0896 - lr: 1.0000e-04\n",
            "Epoch 16/30\n",
            "183/183 [==============================] - 353s 2s/step - loss: 4.8161 - mean_absolute_error: 4.8161 - val_loss: 6.1829 - val_mean_absolute_error: 6.1829 - lr: 1.0000e-04\n",
            "Epoch 17/30\n",
            "183/183 [==============================] - 351s 2s/step - loss: 4.3604 - mean_absolute_error: 4.3604 - val_loss: 6.1009 - val_mean_absolute_error: 6.1009 - lr: 1.0000e-04\n",
            "Epoch 18/30\n",
            "183/183 [==============================] - ETA: 0s - loss: 4.5810 - mean_absolute_error: 4.5810\n",
            "Epoch 18: ReduceLROnPlateau reducing learning rate to 1.0000000474974514e-05.\n",
            "183/183 [==============================] - 358s 2s/step - loss: 4.5810 - mean_absolute_error: 4.5810 - val_loss: 6.2519 - val_mean_absolute_error: 6.2519 - lr: 1.0000e-04\n",
            "Epoch 19/30\n",
            "183/183 [==============================] - 349s 2s/step - loss: 4.5180 - mean_absolute_error: 4.5180 - val_loss: 6.1042 - val_mean_absolute_error: 6.1042 - lr: 1.0000e-05\n",
            "Epoch 20/30\n",
            "183/183 [==============================] - 349s 2s/step - loss: 4.2061 - mean_absolute_error: 4.2061 - val_loss: 6.0903 - val_mean_absolute_error: 6.0903 - lr: 1.0000e-05\n",
            "Epoch 20: early stopping\n"
          ]
        }
      ]
    },
    {
      "cell_type": "markdown",
      "source": [
        "# Performance on Test set"
      ],
      "metadata": {
        "id": "Up457uA7cQT7"
      }
    },
    {
      "cell_type": "code",
      "source": [
        "mobilenet_model_test_results = mobilenet_model.evaluate(X_test, y_test, batch_size=128)\n",
        "print(dict(zip(mobilenet_model.metrics_names, mobilenet_model_test_results)))"
      ],
      "metadata": {
        "colab": {
          "base_uri": "https://localhost:8080/"
        },
        "id": "-SYso13VZJQY",
        "outputId": "d649aeae-6c99-455d-c5f4-8b65f5865a40"
      },
      "execution_count": null,
      "outputs": [
        {
          "output_type": "stream",
          "name": "stdout",
          "text": [
            "20/20 [==============================] - 31s 1s/step - loss: 6.2965 - mean_absolute_error: 6.2965\n",
            "{'loss': 6.296520233154297, 'mean_absolute_error': 6.296520233154297}\n"
          ]
        }
      ]
    }
  ]
}